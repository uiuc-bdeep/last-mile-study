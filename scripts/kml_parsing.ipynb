{
 "cells": [
  {
   "cell_type": "code",
   "execution_count": null,
   "metadata": {},
   "outputs": [],
   "source": [
    "import psycopg2\n",
    "import pandas as pd\n",
    "from bs4 import BeautifulSoup"
   ]
  },
  {
   "cell_type": "code",
   "execution_count": null,
   "metadata": {},
   "outputs": [],
   "source": [
    "conn = psycopg2.connect(database= \"\", \n",
    "                        user = \"\",\n",
    "                        password = \"\",\n",
    "                        port = )\n",
    "cur = conn.cursor()"
   ]
  },
  {
   "cell_type": "code",
   "execution_count": null,
   "metadata": {},
   "outputs": [],
   "source": [
    "import os\n",
    "import re\n",
    "\n",
    "list_ = os.listdir('/home/transitstudy/python/collected_files')\n",
    "for i in range(0, len(list_)):\n",
    "    \n",
    "    text = open('/home/transitstudy/python/collected_files/' + list_[i], 'r', encoding=\"utf-8\").read()\n",
    "    emails = re.findall(r\"[a-z0-9\\.\\-+_]+@[a-z0-9\\.\\-+_]+\\.[a-z]+\", text)\n",
    "    \n",
    "    with open('tmp.kml', 'w') as tmp_kml:\n",
    "        tmp_kml.write(text)\n",
    "    \n",
    "    with open('tmp.kml', 'r') as f:\n",
    "        s = BeautifulSoup(f, 'lxml')\n",
    "        \n",
    "        for tmp_coords in s.find_all('coordinates'):\n",
    "            coords = set(tmp_coords)\n",
    "            print(coords)\n",
    "            \n",
    "        for tmp_desc in s.find_all('description'):\n",
    "            desc = set(tmp_desc)\n",
    "            print(desc)\n",
    "            \n",
    "    _id = set(emails)\n",
    "    date = list_[i]\n",
    "    \n",
    "    date_tmp = \" \".join(date)\n",
    "    date_val = date_tmp.replace(\" \", \"\")\n",
    "    \n",
    "    _id_val = \" \".join(_id)\n",
    "    \n",
    "    data_tmp = \" \".join(text)\n",
    "    data_val = data_tmp.replace(\" \", \"\")\n",
    "    \n",
    "    coord_val = \" \".join(coords)\n",
    "    \n",
    "    desc_val = \" \".join(desc)\n",
    "    print(desc_val)\n",
    "    \n",
    "    cur.execute(\"INSERT INTO kml_data (date, email, data, coord, descr) \"\n",
    "                \"VALUES (%s, %s, %s, %s, %s)\",\n",
    "                (date_val, _id_val, data_val, coord_val, desc_val))"
   ]
  },
  {
   "cell_type": "code",
   "execution_count": null,
   "metadata": {},
   "outputs": [],
   "source": [
    "conn.commit()"
   ]
  },
  {
   "cell_type": "code",
   "execution_count": null,
   "metadata": {},
   "outputs": [],
   "source": [
    "conn.close()\n",
    "cur.close()"
   ]
  }
 ],
 "metadata": {
  "kernelspec": {
   "display_name": "Python 3",
   "language": "python",
   "name": "python3"
  },
  "language_info": {
   "codemirror_mode": {
    "name": "ipython",
    "version": 3
   },
   "file_extension": ".py",
   "mimetype": "text/x-python",
   "name": "python",
   "nbconvert_exporter": "python",
   "pygments_lexer": "ipython3",
   "version": "3.7.1"
  }
 },
 "nbformat": 4,
 "nbformat_minor": 4
}
